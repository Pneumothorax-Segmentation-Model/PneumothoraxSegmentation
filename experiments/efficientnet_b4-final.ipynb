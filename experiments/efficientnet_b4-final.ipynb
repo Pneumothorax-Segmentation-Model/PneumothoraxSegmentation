{
 "cells": [
  {
   "cell_type": "code",
   "execution_count": null,
   "metadata": {
    "execution": {
     "iopub.execute_input": "2024-05-07T10:05:40.007434Z",
     "iopub.status.busy": "2024-05-07T10:05:40.006664Z",
     "iopub.status.idle": "2024-05-07T10:05:41.111636Z",
     "shell.execute_reply": "2024-05-07T10:05:41.111023Z",
     "shell.execute_reply.started": "2024-05-07T10:05:40.007405Z"
    }
   },
   "outputs": [],
   "source": [
    "import os\n",
    "os.environ['CUDA_VISIBLE_DEVICES'] = '0'\n",
    "\n",
    "import numpy as np\n",
    "import cv2\n",
    "import matplotlib.pyplot as plt\n",
    "import pandas as pd\n",
    "import torch\n",
    "from torch.utils.data import DataLoader\n",
    "from torch.utils.data import Dataset as BaseDataset\n",
    "import segmentation_models_pytorch as smp\n",
    "from segmentation_models_pytorch import utils\n",
    "from segmentation_models_pytorch.utils.base import Loss\n",
    "\n",
    "resume = 1\n",
    "number_of_epochs = 20"
   ]
  },
  {
   "cell_type": "code",
   "execution_count": null,
   "metadata": {
    "execution": {
     "iopub.execute_input": "2024-05-07T10:05:41.113401Z",
     "iopub.status.busy": "2024-05-07T10:05:41.112593Z",
     "iopub.status.idle": "2024-05-07T10:05:41.115846Z",
     "shell.execute_reply": "2024-05-07T10:05:41.115426Z",
     "shell.execute_reply.started": "2024-05-07T10:05:41.113378Z"
    }
   },
   "outputs": [],
   "source": [
    "torch.cuda.empty_cache()"
   ]
  },
  {
   "cell_type": "code",
   "execution_count": null,
   "metadata": {
    "execution": {
     "iopub.execute_input": "2024-05-07T10:05:41.116697Z",
     "iopub.status.busy": "2024-05-07T10:05:41.116402Z",
     "iopub.status.idle": "2024-05-07T10:05:41.120119Z",
     "shell.execute_reply": "2024-05-07T10:05:41.119471Z",
     "shell.execute_reply.started": "2024-05-07T10:05:41.116681Z"
    }
   },
   "outputs": [],
   "source": [
    "root = '../../Data'\n",
    "print(os.getcwd())\n",
    "print(os.listdir(root))"
   ]
  },
  {
   "cell_type": "code",
   "execution_count": null,
   "metadata": {
    "execution": {
     "iopub.execute_input": "2024-05-07T10:05:41.121712Z",
     "iopub.status.busy": "2024-05-07T10:05:41.121195Z",
     "iopub.status.idle": "2024-05-07T10:05:41.124042Z",
     "shell.execute_reply": "2024-05-07T10:05:41.123665Z",
     "shell.execute_reply.started": "2024-05-07T10:05:41.121692Z"
    }
   },
   "outputs": [],
   "source": [
    "images_dir='png_files'\n",
    "masks_dir='mask_files'\n",
    "train_csv='csv/train_upsampled.csv'\n",
    "val_csv='csv/val_final.csv'"
   ]
  },
  {
   "cell_type": "code",
   "execution_count": null,
   "metadata": {
    "execution": {
     "iopub.execute_input": "2024-05-07T10:05:41.125190Z",
     "iopub.status.busy": "2024-05-07T10:05:41.124579Z",
     "iopub.status.idle": "2024-05-07T10:05:41.128750Z",
     "shell.execute_reply": "2024-05-07T10:05:41.128376Z",
     "shell.execute_reply.started": "2024-05-07T10:05:41.125171Z"
    }
   },
   "outputs": [],
   "source": [
    "def visualize(**images):\n",
    "    \"\"\"PLot images in one row.\"\"\"\n",
    "    n = len(images)\n",
    "    plt.figure(figsize=(16, 5))\n",
    "    for i, (name, image) in enumerate(images.items()):\n",
    "        plt.subplot(1, n, i + 1)\n",
    "        plt.xticks([])\n",
    "        plt.yticks([])\n",
    "        plt.title(' '.join(name.split('_')).title())\n",
    "        plt.imshow(image)\n",
    "    plt.show()"
   ]
  },
  {
   "cell_type": "code",
   "execution_count": null,
   "metadata": {
    "execution": {
     "iopub.execute_input": "2024-05-07T10:05:41.133215Z",
     "iopub.status.busy": "2024-05-07T10:05:41.132588Z",
     "iopub.status.idle": "2024-05-07T10:05:41.141866Z",
     "shell.execute_reply": "2024-05-07T10:05:41.141046Z",
     "shell.execute_reply.started": "2024-05-07T10:05:41.133193Z"
    }
   },
   "outputs": [],
   "source": [
    "class Dataset(BaseDataset):\n",
    "\n",
    "\n",
    "    def __init__(\n",
    "            self, \n",
    "            root,\n",
    "            images_dir, \n",
    "            masks_dir, \n",
    "            csv,\n",
    "            aug_fn=None,\n",
    "            id_col='DICOM',\n",
    "            aug_col='Augmentation',\n",
    "            preprocessing_fn=None,\n",
    "    ):\n",
    "        images_dir=os.path.join(root,images_dir)\n",
    "        masks_dir=os.path.join(root,masks_dir)\n",
    "        df=pd.read_csv(os.path.join(root,csv))\n",
    "        \n",
    "        self.ids=[(r[id_col],r[aug_col]) for i,r in df.iterrows()]\n",
    "        self.images=[os.path.join(images_dir,item[0]+\".png\") for item in self.ids]\n",
    "        self.masks=[os.path.join(masks_dir,item[0]+\"_mask.png\") for item in self.ids]\n",
    "        self.aug_fn=aug_fn\n",
    "        self.preprocessing_fn=preprocessing_fn\n",
    "\n",
    "    \n",
    "    def __getitem__(self, i):\n",
    "\n",
    "        image = cv2.imread(self.images[i])\n",
    "        image = cv2.cvtColor(image, cv2.COLOR_BGR2RGB)\n",
    "        mask=(cv2.imread(self.masks[i], 0) == 255).astype('float')\n",
    "        mask = np.expand_dims(mask, axis=-1)\n",
    "\n",
    "        aug=self.ids[i][1]\n",
    "        # if aug:\n",
    "        augmented=self.aug_fn(aug)(image=image,mask=mask)\n",
    "        image,mask=augmented['image'],augmented['mask']\n",
    "        \n",
    "        if self.preprocessing_fn:\n",
    "            sample = self.preprocessing_fn(image=image, mask=mask)\n",
    "            image, mask = sample['image'], sample['mask']\n",
    "            \n",
    "        return image, mask\n",
    "        \n",
    "    def __len__(self):\n",
    "        return len(self.ids)"
   ]
  },
  {
   "cell_type": "code",
   "execution_count": null,
   "metadata": {
    "execution": {
     "iopub.execute_input": "2024-05-07T10:05:41.142801Z",
     "iopub.status.busy": "2024-05-07T10:05:41.142625Z",
     "iopub.status.idle": "2024-05-07T10:05:41.897140Z",
     "shell.execute_reply": "2024-05-07T10:05:41.896471Z",
     "shell.execute_reply.started": "2024-05-07T10:05:41.142784Z"
    }
   },
   "outputs": [],
   "source": [
    "from albumentations import (HorizontalFlip, RandomBrightnessContrast, RandomGamma, CLAHE, ElasticTransform, GridDistortion, OpticalDistortion, ShiftScaleRotate, Normalize, GaussNoise, Compose, Lambda, Resize)\n",
    "\n",
    "def augmentation_fn(value,resize=21):\n",
    "    augmentation_options = {\n",
    "        0: [],\n",
    "        1 : [HorizontalFlip(p = 1)],\n",
    "        2 : [RandomBrightnessContrast(brightness_limit = 0.2, contrast_limit = 0.2, p = 1)],\n",
    "        3 : [RandomGamma(p = 1)],\n",
    "        4 : [CLAHE(clip_limit = 4.0, tile_grid_size = (4, 4), p = 1)],\n",
    "        5 : [OpticalDistortion(p = 1)],\n",
    "        6 : [ShiftScaleRotate(shift_limit = 0.2, scale_limit = 0.2, rotate_limit = 15, p = 1)],\n",
    "        7 : [GaussNoise(p = 1)],\n",
    "        8 : [HorizontalFlip(p = 1), RandomBrightnessContrast(brightness_limit = 0.2, contrast_limit = 0.2, p = 1), RandomGamma(p = 1)],\n",
    "        9 : [HorizontalFlip(p = 1), RandomBrightnessContrast(brightness_limit = 0.2, contrast_limit = 0.2, p = 1), CLAHE(clip_limit = 4.0, tile_grid_size = (4, 4), p = 1)],\n",
    "        10 : [HorizontalFlip(p = 1), RandomBrightnessContrast(brightness_limit = 0.2, contrast_limit = 0.2, p = 1), OpticalDistortion(p = 1)],\n",
    "        11 : [HorizontalFlip(p = 1), RandomBrightnessContrast(brightness_limit = 0.2, contrast_limit = 0.2, p = 1), GaussNoise(p = 1)],\n",
    "        12 : [ShiftScaleRotate(shift_limit = 0.2, scale_limit = 0.2, rotate_limit = 15, p = 1), GaussNoise(p = 1)],\n",
    "        13 : [CLAHE(clip_limit = 4.0, tile_grid_size = (4, 4), p = 1), GaussNoise(p = 1)],\n",
    "        14 : [CLAHE(clip_limit = 4.0, tile_grid_size = (4, 4), p = 1), OpticalDistortion(p = 1)],\n",
    "        15 : [CLAHE(clip_limit = 4.0, tile_grid_size = (4, 4), p = 1), RandomGamma(p = 1)],\n",
    "        16 : [RandomGamma(p = 1), OpticalDistortion(p = 1)],\n",
    "        17 : [RandomBrightnessContrast(brightness_limit = 0.2, contrast_limit = 0.2, p = 1), GaussNoise(p = 1)],\n",
    "        18 : [ShiftScaleRotate(shift_limit = 0.2, scale_limit = 0.2, rotate_limit = 15, p = 1), RandomGamma(p = 1)],\n",
    "        19 : [ShiftScaleRotate(shift_limit = 0.2, scale_limit = 0.2, rotate_limit = 15, p = 1), HorizontalFlip(p = 1)],\n",
    "        20 : [ShiftScaleRotate(shift_limit = 0.2, scale_limit = 0.2, rotate_limit = 15, p = 1), GaussNoise(p = 1), OpticalDistortion(p = 1)],\n",
    "        21 : [Resize(width=512, height=512, interpolation=cv2.INTER_AREA)]\n",
    "    }\n",
    "\n",
    "    return Compose(augmentation_options[resize]+augmentation_options[value])\n"
   ]
  },
  {
   "cell_type": "code",
   "execution_count": null,
   "metadata": {
    "execution": {
     "iopub.execute_input": "2024-05-07T10:05:41.898685Z",
     "iopub.status.busy": "2024-05-07T10:05:41.898340Z",
     "iopub.status.idle": "2024-05-07T10:05:41.903793Z",
     "shell.execute_reply": "2024-05-07T10:05:41.902662Z",
     "shell.execute_reply.started": "2024-05-07T10:05:41.898660Z"
    }
   },
   "outputs": [],
   "source": [
    "def to_tensor(x, **kwargs):\n",
    "    return x.transpose(2, 0, 1).astype('float32')\n",
    "\n",
    "\n",
    "def get_preprocessing(preprocessing_fn):\n",
    "    \"\"\"Construct preprocessing transform\n",
    "    \n",
    "    Args:\n",
    "        preprocessing_fn (callbale): data normalization function \n",
    "            (can be specific for each pretrained neural network)\n",
    "    Return:\n",
    "        transform: albumentations.Compose\n",
    "    \n",
    "    \"\"\"\n",
    "    \n",
    "    _transform = [\n",
    "        Lambda(image=preprocessing_fn),\n",
    "        Lambda(image=to_tensor, mask=to_tensor),\n",
    "    ]\n",
    "    return Compose(_transform)"
   ]
  },
  {
   "cell_type": "code",
   "execution_count": null,
   "metadata": {
    "execution": {
     "iopub.execute_input": "2024-05-07T10:05:41.905972Z",
     "iopub.status.busy": "2024-05-07T10:05:41.905496Z",
     "iopub.status.idle": "2024-05-07T10:05:42.797527Z",
     "shell.execute_reply": "2024-05-07T10:05:42.796508Z",
     "shell.execute_reply.started": "2024-05-07T10:05:41.905953Z"
    }
   },
   "outputs": [],
   "source": [
    "dataset = Dataset(\n",
    "    root=root,\n",
    "    images_dir=images_dir,\n",
    "    masks_dir=masks_dir,\n",
    "    csv=train_csv,\n",
    "    aug_fn=augmentation_fn,\n",
    ")\n",
    "print(len(dataset))\n",
    "image, mask = dataset[1] # get some sample\n",
    "print(image.shape)\n",
    "print(mask.shape)\n",
    "print(np.unique(mask.squeeze()))\n",
    "print(set(mask.flatten()))\n",
    "visualize(\n",
    "    image=image, \n",
    "    cars_mask=mask.squeeze(),\n",
    ")"
   ]
  },
  {
   "cell_type": "code",
   "execution_count": null,
   "metadata": {},
   "outputs": [],
   "source": [
    "class WeightedSumOfLosses(Loss):\n",
    "    def __init__(self, l1, l2, w1=1, w2=0.5):\n",
    "        name = \"{} + {}\".format(l1.__name__, l2.__name__)\n",
    "        super().__init__(name=name)\n",
    "        self.l1 = l1\n",
    "        self.l2 = l2\n",
    "        self.w1 = w1\n",
    "        self.w2 = w2\n",
    "\n",
    "    def __call__(self, *inputs):\n",
    "        return self.w1*self.l1.forward(*inputs) + self.w2*self.l2.forward(*inputs)"
   ]
  },
  {
   "cell_type": "code",
   "execution_count": null,
   "metadata": {
    "execution": {
     "iopub.execute_input": "2024-05-07T10:05:44.279389Z",
     "iopub.status.busy": "2024-05-07T10:05:44.279068Z",
     "iopub.status.idle": "2024-05-07T10:05:46.388127Z",
     "shell.execute_reply": "2024-05-07T10:05:46.387583Z",
     "shell.execute_reply.started": "2024-05-07T10:05:44.279370Z"
    }
   },
   "outputs": [],
   "source": [
    "ENCODER = 'efficientnet-b4'\n",
    "ENCODER_WEIGHTS = 'imagenet'\n",
    "ACTIVATION = 'sigmoid' # could be None for logits or 'softmax2d' for multiclass segmentation\n",
    "DEVICE = 'cuda'\n",
    "\n",
    "# create segmentation model with pretrained encoder\n",
    "epoch=-1\n",
    "max_score=0\n",
    "val_loss = 0\n",
    "train_loss = 0\n",
    "train_iou = 0\n",
    "val_iou = 0\n",
    "\n",
    "model = smp.Unet(\n",
    "    encoder_name=ENCODER, \n",
    "    encoder_weights=ENCODER_WEIGHTS, \n",
    "    activation=ACTIVATION,\n",
    ").to(DEVICE)\n",
    "\n",
    "\n",
    "loss = WeightedSumOfLosses(utils.losses.DiceLoss(), utils.losses.BCELoss())\n",
    "metrics = [\n",
    "    utils.metrics.IoU(threshold=0.5)\n",
    "]\n",
    "\n",
    "optimizer = torch.optim.Adam([ \n",
    "    dict(params=model.parameters(), lr=0.0001),\n",
    "])\n",
    "\n",
    "scheduler = torch.optim.lr_scheduler.ReduceLROnPlateau(optimizer=optimizer, mode='max', factor=0.8, patience=2, threshold=0.01, threshold_mode='abs')\n",
    "\n",
    "\n",
    "if resume:\n",
    "    checkpoint = torch.load('latest_model.pth')\n",
    "    model.load_state_dict(checkpoint['model_state_dict'])\n",
    "    optimizer.load_state_dict(checkpoint['optimizer_state_dict'])\n",
    "    scheduler.load_state_dict(checkpoint['scheduler_state_dict'])\n",
    "    epoch = checkpoint['epoch']\n",
    "    loss = checkpoint['loss_function']\n",
    "    max_score = checkpoint['max_score']\n",
    "    val_loss = checkpoint['val_loss']\n",
    "    train_loss = checkpoint['train_loss']\n",
    "    train_iou = checkpoint['train_iou']\n",
    "    val_iou = checkpoint['val_iou']\n",
    "    started_lr = checkpoint['started_lr']\n",
    "    \n",
    "\n",
    "\n",
    "print(\"Scheduler State Dict Outside: \",scheduler.state_dict())        \n",
    "print(\"Epoch:\",epoch)\n",
    "print(\"Loss Function:\",loss)\n",
    "print(\"Max Val Score:\",max_score)\n",
    "print(f\"Train Iou: {train_iou}\\nValid Iou: {val_iou}\\nTrain Loss: {train_loss}\\nVal Loss: {val_loss}\")\n",
    "print(\"Optimizer LR:\",optimizer.param_groups[0]['lr'])\n",
    "\n",
    "preprocessing_fn = smp.encoders.get_preprocessing_fn(ENCODER, ENCODER_WEIGHTS)"
   ]
  },
  {
   "cell_type": "code",
   "execution_count": null,
   "metadata": {
    "execution": {
     "iopub.execute_input": "2024-05-07T10:05:46.398520Z",
     "iopub.status.busy": "2024-05-07T10:05:46.398002Z",
     "iopub.status.idle": "2024-05-07T10:05:47.010134Z",
     "shell.execute_reply": "2024-05-07T10:05:47.009490Z",
     "shell.execute_reply.started": "2024-05-07T10:05:46.398503Z"
    }
   },
   "outputs": [],
   "source": [
    "train_dataset=Dataset(\n",
    "    root=root,\n",
    "    images_dir=images_dir,\n",
    "    masks_dir=masks_dir,\n",
    "    csv=train_csv,\n",
    "    aug_fn=augmentation_fn,\n",
    "    preprocessing_fn=get_preprocessing(preprocessing_fn)\n",
    ")\n",
    "print(len(train_dataset))\n",
    "\n",
    "val_dataset=Dataset(\n",
    "    root=root,\n",
    "    images_dir=images_dir,\n",
    "    masks_dir=masks_dir,\n",
    "    csv=val_csv,\n",
    "    aug_fn=augmentation_fn,\n",
    "    preprocessing_fn=get_preprocessing(preprocessing_fn)\n",
    ")\n",
    "\n",
    "print(len(val_dataset))\n",
    "\n",
    "train_loader = DataLoader(train_dataset, batch_size=8, shuffle=True, num_workers=0)\n",
    "valid_loader = DataLoader(val_dataset, batch_size=8, shuffle=False, num_workers=0)"
   ]
  },
  {
   "cell_type": "code",
   "execution_count": null,
   "metadata": {
    "execution": {
     "iopub.execute_input": "2024-05-07T10:05:47.011194Z",
     "iopub.status.busy": "2024-05-07T10:05:47.011019Z",
     "iopub.status.idle": "2024-05-07T10:05:47.021708Z",
     "shell.execute_reply": "2024-05-07T10:05:47.021176Z",
     "shell.execute_reply.started": "2024-05-07T10:05:47.011178Z"
    }
   },
   "outputs": [],
   "source": [
    "\n",
    "train_epoch = utils.train.TrainEpoch(\n",
    "    model, \n",
    "    loss=loss, \n",
    "    metrics=metrics, \n",
    "    optimizer=optimizer,\n",
    "    device=DEVICE,\n",
    "    verbose=True,\n",
    ")\n",
    "\n",
    "valid_epoch = utils.train.ValidEpoch(\n",
    "    model, \n",
    "    loss=loss, \n",
    "    metrics=metrics, \n",
    "    device=DEVICE,\n",
    "    verbose=True,\n",
    ")"
   ]
  },
  {
   "cell_type": "code",
   "execution_count": null,
   "metadata": {
    "execution": {
     "iopub.execute_input": "2024-05-07T10:05:47.026471Z",
     "iopub.status.busy": "2024-05-07T10:05:47.026321Z"
    }
   },
   "outputs": [],
   "source": [
    "val_iou_scores=[]\n",
    "train_iou_scores=[]\n",
    "val_dice_loss=[]\n",
    "train_dice_loss=[]\n",
    "\n",
    "for i in range(epoch+1, epoch+number_of_epochs+1):\n",
    "    \n",
    "    print('\\nEpoch: {}'.format(i))\n",
    "    train_logs = train_epoch.run(train_loader)\n",
    "    valid_logs = valid_epoch.run(valid_loader)\n",
    "\n",
    "    train_iou_scores.append((i, train_logs['iou_score']))\n",
    "    val_iou_scores.append((i, valid_logs['iou_score']))\n",
    "    val_dice_loss.append((i, valid_logs['dice_loss']))\n",
    "    train_dice_loss.append((i,train_logs['dice_loss']))\n",
    "    \n",
    "    started_lr = optimizer.param_groups[0]['lr']\n",
    "    print(\"Started with LR:\",started_lr)\n",
    "    scheduler.step(train_logs['iou_score'])\n",
    "    print(\"Changed LR to:\",optimizer.param_groups[0]['lr'])\n",
    "    \n",
    "\n",
    "    if max_score < valid_logs['iou_score']:\n",
    "        max_score = valid_logs['iou_score']\n",
    "        print(\"best valid model!\")\n",
    "\n",
    "    checkpoint = {\n",
    "        'epoch': i,\n",
    "        'model_state_dict': model.state_dict(),\n",
    "        'optimizer_state_dict': optimizer.state_dict(),\n",
    "        'loss_function': loss,\n",
    "        'max_score': max_score,\n",
    "        'val_loss': valid_logs['dice_loss'],\n",
    "        'train_loss': train_logs['dice_loss'],\n",
    "        'train_iou': train_logs['iou_score'],\n",
    "        'val_iou': valid_logs['iou_score'],\n",
    "        'scheduler_state_dict': scheduler.state_dict(),\n",
    "        'started_lr': started_lr\n",
    "    }\n",
    "\n",
    "    torch.save(checkpoint,f'model_epoch_{i}.pth')\n",
    "    print(\"model saved!\")\n",
    "    \n",
    "    if i == epoch+number_of_epochs:\n",
    "        torch.save(checkpoint, 'latest_model_cosine.pth')\n",
    "        print(\"latest model saved!\")\n",
    "    \n",
    "    np.savetxt(f'train_iou_scores_{epoch+number_of_epochs}.txt',train_iou_scores,fmt='%.5f')\n",
    "    np.savetxt(f'val_iou_scores_{epoch+number_of_epochs}.txt',val_iou_scores,fmt='%.5f')\n",
    "    np.savetxt(f'val_dice_loss_{epoch+number_of_epochs}.txt',val_dice_loss,fmt='%.5f')\n",
    "    np.savetxt(f'train_dice_loss_{epoch+number_of_epochs}.txt',train_dice_loss,fmt='%.5f')"
   ]
  },
  {
   "cell_type": "code",
   "execution_count": null,
   "metadata": {},
   "outputs": [],
   "source": [
    "print(\"train iou:\\n\",train_iou_scores)\n",
    "print()\n",
    "print(\"train loss:\\n\",train_dice_loss)\n",
    "print()\n",
    "print(\"val iou:\\n\",val_iou_scores)\n",
    "print()\n",
    "print(\"val loss:\\n\",val_dice_loss)\n"
   ]
  }
 ],
 "metadata": {
  "kernelspec": {
   "display_name": "Python 3 (ipykernel)",
   "language": "python",
   "name": "python3"
  },
  "language_info": {
   "codemirror_mode": {
    "name": "ipython",
    "version": 3
   },
   "file_extension": ".py",
   "mimetype": "text/x-python",
   "name": "python",
   "nbconvert_exporter": "python",
   "pygments_lexer": "ipython3",
   "version": "3.9.16"
  }
 },
 "nbformat": 4,
 "nbformat_minor": 4
}
